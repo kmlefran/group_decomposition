{
 "cells": [
  {
   "cell_type": "code",
   "execution_count": 2,
   "metadata": {},
   "outputs": [],
   "source": [
    "import sys\n",
    "sys.path.append(sys.path[0].replace('/Development Notebooks',''))\n",
    "from group_decomposition import fragfunctions as ff\n",
    "from group_decomposition.utils import mol_from_molfile, set_scaffold_params, get_scaffold_vertices, find_smallest_rings, xyz_from_cml\n",
    "import rdkit\n",
    "from rdkit import Chem, rdBase\n",
    "from rdkit.Chem import BRICS\n",
    "from rdkit.Chem import AllChem #used for 3d coordinates\n",
    "from rdkit.Chem import Draw,rdDepictor\n",
    "from rdkit.Chem.Draw import IPythonConsole, rdMolDraw2D\n",
    "from rdkit.Chem.Scaffolds import rdScaffoldNetwork # scaffolding\n",
    "from rdkit import RDPaths\n",
    "from rdkit.Chem.Draw import rdMolDraw2D\n",
    "import numpy as np\n",
    "from group_decomposition import utils\n",
    "from rdkit.Chem.Scaffolds import rdScaffoldNetwork"
   ]
  },
  {
   "cell_type": "code",
   "execution_count": 13,
   "metadata": {},
   "outputs": [
    {
     "data": {
      "text/plain": [
       "[True, False]"
      ]
     },
     "execution_count": 13,
     "metadata": {},
     "output_type": "execute_result"
    }
   ],
   "source": [
    "mol = Chem.MolFromSmiles('c1ccccc1')\n",
    "mol\n",
    "ring_info = mol.GetRingInfo()\n",
    "ring_info.BondRings()\n",
    "atom = mol.GetAtomWithIdx(0)\n",
    "at_bonds = atom.GetBonds()\n",
    "bond = at_bonds[0]\n",
    "bond.IsInRing()\n",
    "bond.GetIdx()\n",
    "# bond.SetIsAromatic()\n",
    "[0 in x for x in ((0,1,2,3),(1,2,3,4))]"
   ]
  },
  {
   "cell_type": "code",
   "execution_count": 15,
   "metadata": {},
   "outputs": [],
   "source": [
    "atom = bond.GetBeginAtom()\n",
    "atom.SetIsAromatic(True)"
   ]
  },
  {
   "cell_type": "code",
   "execution_count": 16,
   "metadata": {},
   "outputs": [
    {
     "data": {
      "image/png": "[encoded data removed]",
      "text/plain": [
       "<rdkit.Chem.rdchem.Mol at 0x151402c00>"
      ]
     },
     "execution_count": 16,
     "metadata": {},
     "output_type": "execute_result"
    }
   ],
   "source": [
    "Chem.MolFromSmiles('COc1ccc(cc1COc1ccc(c(c1)C)[N+](=O)[O-])[C@@H]1N[C@H](CC2=c3c(=[NH+][C@H]12)cccc3)C(=O)[O-]')"
   ]
  },
  {
   "cell_type": "code",
   "execution_count": 24,
   "metadata": {},
   "outputs": [
    {
     "name": "stdout",
     "output_type": "stream",
     "text": [
      "C\n",
      "C\n",
      "C\n",
      "C\n",
      "C\n",
      "C\n",
      "C\n",
      "C\n",
      "C\n",
      "C\n",
      "C\n",
      "C\n",
      "C\n",
      "C\n",
      "C\n",
      "C\n",
      "C\n",
      "C\n",
      "C\n",
      "C\n",
      "C\n",
      "C\n",
      "C\n",
      "C\n",
      "N\n",
      "N\n",
      "N\n",
      "N\n",
      "N\n",
      "N\n",
      "N\n",
      "O\n",
      "O\n",
      "O\n",
      "O\n",
      "O\n",
      "H\n",
      "H\n"
     ]
    }
   ],
   "source": [
    "inmol = Chem.MolFromInchi('InChI=1S/C24H33N7O5/c1-15-16(10-11-20(25)28-15)13-27-21(32)18-9-6-12-29-23(34)30(24(35)31(18)29)19(22(33)36-2)14-26-17-7-4-3-5-8-17/h6,9-11,17-19,26H,3-5,7-8,12-14H2,1-2H3,(H2,25,28)(H,27,32)/p+2/t18-,19-/m0/s1',removeHs=False)\n",
    "for atom in inmol.GetAtoms():\n",
    "    print(atom.GetSymbol())"
   ]
  },
  {
   "cell_type": "markdown",
   "metadata": {},
   "source": [
    "Che"
   ]
  }
 ],
 "metadata": {
  "kernelspec": {
   "display_name": "my-rdkit-env",
   "language": "python",
   "name": "python3"
  },
  "language_info": {
   "codemirror_mode": {
    "name": "ipython",
    "version": 3
   },
   "file_extension": ".py",
   "mimetype": "text/x-python",
   "name": "python",
   "nbconvert_exporter": "python",
   "pygments_lexer": "ipython3",
   "version": "3.11.3"
  },
  "orig_nbformat": 4
 },
 "nbformat": 4,
 "nbformat_minor": 2
}
