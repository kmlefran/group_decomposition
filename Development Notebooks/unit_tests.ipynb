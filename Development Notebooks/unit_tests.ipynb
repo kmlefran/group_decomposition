{
 "cells": [
  {
   "cell_type": "code",
   "execution_count": 1,
   "metadata": {},
   "outputs": [],
   "source": [
    "import sys\n",
    "sys.path.append(sys.path[0].replace('/Development Notebooks',''))\n",
    "from group_decomposition import fragfunctions as ff\n",
    "from group_decomposition import utils\n",
    "import rdkit\n",
    "from rdkit import Chem, rdBase\n",
    "from rdkit.Chem import BRICS\n",
    "from rdkit.Chem import AllChem #used for 3d coordinates\n",
    "from rdkit.Chem import Draw,rdDepictor\n",
    "from rdkit.Chem.Draw import IPythonConsole, rdMolDraw2D\n",
    "from rdkit.Chem.Scaffolds import rdScaffoldNetwork # scaffolding\n",
    "from rdkit import RDPaths\n",
    "from rdkit.Chem.Draw import rdMolDraw2D\n",
    "from tests import test_fragment"
   ]
  },
  {
   "cell_type": "code",
   "execution_count": 2,
   "metadata": {},
   "outputs": [
    {
     "name": "stderr",
     "output_type": "stream",
     "text": [
      "[15:20:16] SMILES Parse Error: syntax error while parsing: CBx\n",
      "[15:20:16] SMILES Parse Error: Failed parsing SMILES 'CBx' for input: 'CBx'\n"
     ]
    },
    {
     "ename": "ValueError",
     "evalue": "CBx is not a valid SMILES code or \n                         rdkit cannot construct a molecule from it",
     "output_type": "error",
     "traceback": [
      "\u001b[0;31m---------------------------------------------------------------------------\u001b[0m",
      "\u001b[0;31mValueError\u001b[0m                                Traceback (most recent call last)",
      "Cell \u001b[0;32mIn[2], line 1\u001b[0m\n\u001b[0;32m----> 1\u001b[0m utils\u001b[39m.\u001b[39;49mget_canonical_molecule(\u001b[39m'\u001b[39;49m\u001b[39mCBx\u001b[39;49m\u001b[39m'\u001b[39;49m)\n",
      "File \u001b[0;32m~/Documents/Retrievium Work/Scaffolding/group_decomposition/group_decomposition/utils.py:90\u001b[0m, in \u001b[0;36mget_canonical_molecule\u001b[0;34m(smile)\u001b[0m\n\u001b[1;32m     88\u001b[0m     mol_smi \u001b[39m=\u001b[39m Chem\u001b[39m.\u001b[39mMolToSmiles(mol) \u001b[39m#molsmi is canonical SMILES\u001b[39;00m\n\u001b[1;32m     89\u001b[0m \u001b[39melse\u001b[39;00m:\n\u001b[0;32m---> 90\u001b[0m     \u001b[39mraise\u001b[39;00m \u001b[39mValueError\u001b[39;00m(\u001b[39mf\u001b[39m\u001b[39m\"\"\"\u001b[39m\u001b[39m{\u001b[39;00msmile\u001b[39m}\u001b[39;00m\u001b[39m is not a valid SMILES code or \u001b[39m\n\u001b[1;32m     91\u001b[0m \u001b[39m                     rdkit cannot construct a molecule from it\u001b[39m\u001b[39m\"\"\"\u001b[39m)    \n\u001b[1;32m     92\u001b[0m \u001b[39m#create canonical molecule numbering from canonical SMILES\u001b[39;00m\n\u001b[1;32m     93\u001b[0m \u001b[39mreturn\u001b[39;00m Chem\u001b[39m.\u001b[39mMolFromSmiles(mol_smi)\n",
      "\u001b[0;31mValueError\u001b[0m: CBx is not a valid SMILES code or \n                         rdkit cannot construct a molecule from it"
     ]
    }
   ],
   "source": [
    "utils.get_canonical_molecule('CBx')"
   ]
  },
  {
   "cell_type": "code",
   "execution_count": null,
   "metadata": {},
   "outputs": [
    {
     "name": "stderr",
     "output_type": "stream",
     "text": [
      "[14:20:31] SMILES Parse Error: syntax error while parsing: CBx\n",
      "[14:20:31] SMILES Parse Error: Failed parsing SMILES 'CBx' for input: 'CBx'\n"
     ]
    }
   ],
   "source": [
    "if Chem.MolFromSmiles('CBx'):\n",
    "    print('here')"
   ]
  },
  {
   "cell_type": "code",
   "execution_count": null,
   "metadata": {},
   "outputs": [
    {
     "name": "stderr",
     "output_type": "stream",
     "text": [
      "[14:44:51] Running LargestFragmentChooser\n",
      "[14:44:51] Fragment: O[C@@H]1CCCN(Br)[C@@]12CC[C@H](Cc1ccccc1)C2\n",
      "[14:44:51] New largest fragment: O[C@@H]1CCCN(Br)[C@@]12CC[C@H](Cc1ccccc1)C2 (41)\n"
     ]
    },
    {
     "data": {
      "text/plain": [
       "True"
      ]
     },
     "execution_count": 14,
     "metadata": {},
     "output_type": "execute_result"
    }
   ],
   "source": [
    "'*c1ccccc1' in list(ff.count_uniques(ff.identify_connected_fragments('c1ccc(cc1)C[C@H]2CC[C@@]3(C2)[C@@H](CCCN3Br)O'))['Smiles'])"
   ]
  },
  {
   "cell_type": "code",
   "execution_count": null,
   "metadata": {},
   "outputs": [
    {
     "name": "stderr",
     "output_type": "stream",
     "text": [
      "[14:46:01] Running LargestFragmentChooser\n",
      "[14:46:01] Fragment: O[C@@H]1CCCN(Br)[C@@]12CC[C@H](Cc1ccccc1)C2\n",
      "[14:46:01] New largest fragment: O[C@@H]1CCCN(Br)[C@@]12CC[C@H](Cc1ccccc1)C2 (41)\n"
     ]
    }
   ],
   "source": [
    "phenyl_in_frag = '*c1ccccc1' in list(ff.count_uniques(ff.identify_connected_fragments('c1ccc(cc1)C[C@H]2CC[C@@]3(C2)[C@@H](CCCN3Br)O'))['Smiles'])"
   ]
  },
  {
   "cell_type": "code",
   "execution_count": null,
   "metadata": {},
   "outputs": [
    {
     "data": {
      "text/plain": [
       "True"
      ]
     },
     "execution_count": 17,
     "metadata": {},
     "output_type": "execute_result"
    }
   ],
   "source": [
    "phenyl_in_frag"
   ]
  },
  {
   "cell_type": "code",
   "execution_count": null,
   "metadata": {},
   "outputs": [
    {
     "name": "stdout",
     "output_type": "stream",
     "text": [
      "I passed the if\n",
      "I passed the if\n"
     ]
    },
    {
     "name": "stderr",
     "output_type": "stream",
     "text": [
      "[14:51:01] Running LargestFragmentChooser\n",
      "[14:51:01] Fragment: NNc1ncc(Br)cc1C(=O)N[C@@H]1CCS(=O)(=O)C1\n",
      "[14:51:01] New largest fragment: NNc1ncc(Br)cc1C(=O)N[C@@H]1CCS(=O)(=O)C1 (32)\n"
     ]
    },
    {
     "data": {
      "text/html": [
       "<div>\n",
       "<style scoped>\n",
       "    .dataframe tbody tr th:only-of-type {\n",
       "        vertical-align: middle;\n",
       "    }\n",
       "\n",
       "    .dataframe tbody tr th {\n",
       "        vertical-align: top;\n",
       "    }\n",
       "\n",
       "    .dataframe thead th {\n",
       "        text-align: right;\n",
       "    }\n",
       "</style>\n",
       "<table border=\"1\" class=\"dataframe\">\n",
       "  <thead>\n",
       "    <tr style=\"text-align: right;\">\n",
       "      <th></th>\n",
       "      <th>Smiles</th>\n",
       "      <th>Molecule</th>\n",
       "      <th>count</th>\n",
       "      <th>xyz</th>\n",
       "      <th>numAttachments</th>\n",
       "    </tr>\n",
       "  </thead>\n",
       "  <tbody>\n",
       "    <tr>\n",
       "      <th>0</th>\n",
       "      <td>*NC(*)=O</td>\n",
       "      <td style=\"text-align: center;\"><div style=\"width: 200px; height: 200px\" data-content=\"rdkit/molecule\"><img src=\"data:image/png;base64,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\" alt=\"Mol\"/></div></td>\n",
       "      <td>1</td>\n",
       "      <td>6\\n\\nAt    -2.627402    0.255546   -0.273482\\n...</td>\n",
       "      <td>2</td>\n",
       "    </tr>\n",
       "    <tr>\n",
       "      <th>1</th>\n",
       "      <td>*Br</td>\n",
       "      <td style=\"text-align: center;\"><div style=\"width: 200px; height: 200px\" data-content=\"rdkit/molecule\"><img src=\"data:image/png;base64,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\" alt=\"Mol\"/></div></td>\n",
       "      <td>1</td>\n",
       "      <td>2\\n\\nAt     1.348902    0.000000    0.000000\\n...</td>\n",
       "      <td>1</td>\n",
       "    </tr>\n",
       "    <tr>\n",
       "      <th>2</th>\n",
       "      <td>*NN</td>\n",
       "      <td style=\"text-align: center;\"><div style=\"width: 200px; height: 200px\" data-content=\"rdkit/molecule\"><img src=\"data:image/png;base64,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\" alt=\"Mol\"/></div></td>\n",
       "      <td>1</td>\n",
       "      <td>6\\n\\nAt     2.341202   -0.609396   -0.182980\\n...</td>\n",
       "      <td>1</td>\n",
       "    </tr>\n",
       "    <tr>\n",
       "      <th>3</th>\n",
       "      <td>*c1cnc(*)c(*)c1</td>\n",
       "      <td style=\"text-align: center;\"><div style=\"width: 200px; height: 200px\" data-content=\"rdkit/molecule\"><img src=\"data:image/png;base64,iVBORw0KGgoAAAANSUhEUgAAAMgAAADICAIAAAAiOjnJAAAABmJLR0QA/wD/AP+gvaeTAAAWxUlEQVR4nO3de1STR/oH8CcJIDdBUEFAK17QilCL4VZIFQURFa+7VM+qHKVdtmJR6+Xodu3qqWXV7tnWdu2x8azVVq0YtSpeWgXRmAQkKDdZiwuUgmA1AiWEi4SQ+f3x9hdDRCTAZPKG+fzV806aPIlf3knmnXeGgxACiupvXNIFUJaJBovCggaLwoIGi8KCBovCggaLwoIGi8KCBovCggaLwoIGi8KCBovCggaLwoIGi8KCBovCggaLwoIGi8KCBovCggaLwoIGi8KCBovCggaLwoIGi8KCBovCggaLwoIGi8KCBovCggaLwoIGi8KCBovCggaLwoIGi8KCBovCggaLwoIGi8KCBovCggaLwoIGi8KCBovCggaLwoIGi8KCBovCggarH5w/DwcPQmmp4fFz5+Dbb0kUZAY4dMuTvgsLg+xsCAqCW7eAq/en+sYbUF4OCgW5ysihZ6z+weVCbi4IhaTrMBs0WP1j5EiYORO2bYOHD0mXYh5osPrN3r3Q1ARbtpCuwzzQYPWbwEBYtQq++w4yMkiXYgZosPrT7t3g4gJr1sDTp6RLIY0Gq5daW0Eshps3Ox10c4OPP4ayMti7l1BZZoMGywiNjZCRATt3wqxZ4OICERHw0UeGj3n3XQgJgb17obKSRIlmw4p0AeautBRkMpBKQSaDkpJnx3k8mDoVgoMNH8/lwr//DaGh8MEHpizT7NBgGerogJKS38MkFkNV1bMmBwd4/XUQCCA8HAQCcHHp+hmCgiAxEYRCcHXtNF46oNCRdwAAlUqTnW3FhCknB5qbnzWNGPF7jMLDISAArLr6SwwLg5qaTn3fb7/Bq6+CQgHDhw/QkfeBe8Z69OhRbm6uTCaTSqW1tcPv3z+raxo79lmYfH2BwzH6yV1cYM8eSEjoz4LZZQAFCyF07949JklSqbSiokLXZGMzKDJSExBgJRBAWBgMH27cM2/d2ukkx1i1Cjic37tCkQju3oVdu/r4DtjEwrtCjUZTWFgolUplMtn169dra2t1TY6OjqGhoeHh4QKBIDw83M7ODlMNNTUwfjw8fQq7d8O2bZhexOxYYLBUKlVOTg4TJplM1traqmvy8PDg8/kCgSAqKiogIIBrqq/W338Pb70FHR3w2WewYYNpXpM0ZEFOnjzp4OCgHxcul+vv75+UlHT8+PHKykqCtR0+jDgcxOGgr78mWIXpWM4Zq7Gx0cXFRavVWllZTZkyhenjZs6cOXToUNMXgxDU1cGwYZ0Ofv45bNgAPB6cPAl/+IPpizIt0snuNx999BEA2NraqlQqspVoNCghAY0fj3791bDpgw8QALKxQVeukKjMhCxn/K6srAwAYmJiHB0dyVbS3Az5+VBWBjEx0NDQqSklBd5/H9RqWLIEsrII1WcapJPdP7Ra7ciRIwHgzp07pGtBCKEnT9CkSQgAhYYigxOoVosSEhAAGjIE5ecTqg8/CwnWnTt3AMDT01Or1ZKu5XfV1cjbGwGgyEj09GmnJo0G/fGPCAC5uaGSEkL1YWYhXeGFCxcAYMGCBRy9YfJffvmlpaWFVEleXpCeDh4ecO0aLFsGGs2zJh4Pjh+H2bNBoYDo6E6XIy0H6WT3Dz6fDwCXLl3SPxgdHW1nZ5eRkUGqKoRQURFydUUAaOVK1NHRqam5GQkECABNmIAePSJUn/HWrl37n//856UPs4Rg1dTUcDgcBweH1tZW3UGVSjVo0CAej/fkyROCtSGEbt1Cjo4IAK1da9jU0IACAhAAev119NtvJIozhlQq7ejo2LBhw5kzZ1paWoqLi7t5sCUE66uvvgKAxYsX6x8UiUQAMG3aNFJV6bt2DdnaIgC0Y4dh0+PHaOJEBIDCwlBTE4Haeujp06f+/v7Tpk2Li4tbs2aNn59ffHx8N4+3hGDNmzcPAL7uPKS9cuVKAPjnP/9JqioD588jKysEgJ6vqKICeXkhT8+q+Pj31Go1iep6qri4WCAQLFq0qKGhoftHsj5Yzc3N9vb2XC73V73hSI1GM2zYMAC4f/8+wdoMHD2KuFzE4aCDBw2b7t3T+vvzAWDZsmUdBt/FzEZzc/PixYtFIlF8fPyHH37Y/YNZH6yzZ88CwBtvvKF/8ObNmwAwfvx4UlW9yJdfIgDE46HUVMOmgoICFxcXAFi1apX5DJroKy4uXrFihUajuXfv3urVq58aDKJ0xvpgJSQkAMA//vEP/YNbtmwBgM2bN5Oqqhu7diEANH586ZUrhj9Xs7KyHBwcAGD9+vVEautSdXX1mTNnlEqlUf8Xu4PV0dExYsQIADD4hTJx4kQAEIvFpArr3s6d1W5uI+zt7SUSiUHT1atXBw0a9PyfiilpNJqSkpKjR48mJyeHhIR4eHh4eHhcvXrVqCdhd7Cys7MBYPTo0foHS0tLAcDV1bW9vZ1QXS+h1WoTExMBwMnJ6fbt2watZ86c4fF4APDpp5+arKSWlpasrKzPPvts+fLlEyZM8NDj6+sbHx+flZVl1BOye2oyM+C+aNEi/YPnz58HgHnz5ll1eeeDGeBwOAcOHGhsbExNTY2Jibl58+akSZN0rUuWLDl06NDq1as3bdrk7OycgG3mvEqlKigokMvlcrk8JydHrVbrmtzd3YODg4OCgoKDg/38/HozIxLTX4Bp+Pn5AYDB2Pr06dMBQCQSkaqqh9RqNTNQ4uXlVVFRYdD6+eefAwCPxzt16lQ/vuijR4/S0tK2b98+e/ZsT09P3Wlp5MiR06dP37Jli0gkevDgQd9fiMUT/SorK729vZ2dnRUKhY2NDXOwvr7e3d2dw+EoFIohQ4aQrfClWltb58yZIxaLx48ff/PmTQ8PD/3WDz/88OOPP7axsUlLS5s9e3bvXkKj0eTl5clkMrlcXlJS8vjxY12Tg4NDQEBASEhIUFAQn89nfjf0m75nkxTmb3rp0qX6B48ePQoAs2bNIlWVsZRKZWBgIAD4+/vX1dUZtG7cuBEA7O3tpVJpz5+zqalJIpHs2bMnNjbW2dlZ928tEAhee+21+Pj4/fv3M31fv76VTlgcrKioKAA4duyY/sG33noLAL744gtSVfXCkydPfH19ASAkJMRg+qtWq3377bcBYMiQIfndzt6qrq5OTU1NTk4OCAhgvvszOBzOpEmT3nnnnSNHjvz888+Y38ozbA2WUqm0sbHh8Xi1tbW6g2q1mun+TPkJ9ovq6uoxY8YAwMyZM/UvpSOENBpNXFwcALi5uZV0nr1VXl7+zTffJCYmMrnUsbKy4vP569atE4lECoXCtG/ld2wN1smTJwEgIiJC/2B6ejrTp5Cqqi/KysqY71gLFy40GChpa2uLiYkBgJEjR54+fZrp41xdXfXD5OzsPHfu3JSUFLFY3NLSQupd6LA1WCtWrACAf/3rX/oH161bBwB/+9vfSFXVR3fv3mXismLFCoMrhiqVKjg42OBnv4eHR1xc3L59+27fvm1uVxhZGSyNRsPc1GVwjZnpTW7dukWqsL7LyckZPHgwACQlJRk0nT59GgBcXFzWrl17/PjxqqoqIhX2ECuDdePGDQB49dVX9Q8WFRUxX0TM7W/XWJmZmba2tsnJyQaXopOSkgBgx/NTusySmY5Nd083w/35g/PnzzfZjfOYzJgxo7CwcMKECQbHL1++DADz588nUZTxSCe7N5gP3eAKbmhoKACcO3eOVFVY5efng5ndhtQ99v1x379//3//+5+rqyuTJIZCoZDL5XZ2dszgluVJS0sDgPnz53N6sVoXCewLFvMRx8bG6l9jvnDhglarjYyM7OfrEmZD19GTLqSn2BesLj9i1n3uRnn48OGdO3fs7e1nzJhBupaeYlmw6uvrs7OzbWxsoqOjdQfb2tquXbvG4XDmzp1LsDZ8Ll68iBCaNWuWvb096Vp6imXBunTpkkajiYiIcHJy0h3MyMhoamri8/nM8g2Wh43nY5YFawD2g62trZmZmVwul5m8xRqkf5YaQa1WM5NA9KfF6daZ6f7iP3udO3cOAEJDQ0kXYhw2nbFu3LihVCqnTJni7e2tO5iXl1ddXe3l5TVlyhRypWHE0vMxm4LVTT+4cOFCtgzwGEWr1V66dAlosLC6ePEiPPcR60YOydSEWW5u7qNHj0aPHu3v70+6FuOwJlhFRUUVFRXu7u7MRF5GTU1NQUGBo6NjREQEudIw0p2PSRdiNNYES3fhWf8ac1paGkIoOjra1taWXGkYsfQLFrAuWANqoKGqqqqoqMjJyWnatGmkazEaO4KlUChyc3Pt7OwiIyN1B5ubm69fv87lcufMmUOwNnyYO29jYmJ0N7exCDvmY6WlpWm12qioKP1rGg0NDYsXL25sbHR3dydYGz7sPh+THkh7iY6OjqKioqlTpwLAwefXlbJc5rPUZe+Y4xmrvb29qKiI2WUpMzOzrq6Ow+EMGTKkyjKXF+7aDz/80NbWNm3atGEGG6ewhLkEq7a2ltlJUCaT3blzR3+BijFjxowaNUoqlaakpHh7ezM3cFo8dveDQLQrrKmpEYlE69at4/P5+uPmPB7P19c3MTHxm2++0V0W/PLLL5mmEydOEKzZNMxzqUujmDRYGo2muLhYKBSuXLnylVde0c+3vb19eHj41q1b09LS6uvru/zfd+3aBQDW1tbM/CQLJhaLwSyXuuy5l3eFJ0+eLC0t3b59e+/OiE1NTXl5ebm5uTk5OeXl5Xl5ebomd3f38PDwN998MywsbOrUqS9dzmr79u0qleqTTz6Ji4v78ccf2Ti600NdrvvFLt39W1ZUVIwePVqtViuVSgCorq7u4Uw6hUJRWFjIrOhVUFDQ3t7OHJ88efLYsWN1u+X6+voae+V4z549SqVSKBTOnz8/MzOT2ZDC8rD+C1b3W/cuXLiwoaEhLCystrZWqVTm5+cXFxczK2QaQAiVlpbK5fLc3Fy5XF5ZWalrsra2fu2114KCgkJCQgIDA/u+LaVWq12+fHlqauqwYcPEYrHBehgWoKyszMfHx9XV9fHjx2a7KOFLdVf36dOnf/rpp7/+9a91dXVffPGFn5+ffqqYZZmZMMlksvr6el2Tg4PD1KlTg4ODg4ODAwMD+3cfby6X++2336pUqkuXLkVHR0skEubOeoth/ktd9sRLVvQ7cODA3bt3X3nllfLy8q+++orH4929e/fixYtMH9fW1qZ7pIeHB7M2XEhIyMSJE/WXaMJBtxbeuHHjJBKJwVp4rBYRESEWi0UiEbN6EVt188W+vr4+IiLi559/bmhoiIiIKC8vRwh9/fXXuoUrQ0NDk5OTjx49WkJi173u18Jjqbq6OisrK2tr69/Mf9Ombr1kuEGj0Rj8R3l5+e7du9PT041dUR6HbtbCYynWLXX5IuZ+rfClulkLj43YuNRll1gfLKS3Ft6CBQvMdtOAnmDvUpfPY8d8rO6NGzfu6tWrQ4cOTUtLW716tVarJV1RL4nF4oaGBn9/fwv4nWsJwQIAPz+/y5cvDx48+NixY8nJyaTL6aUu1/1iK9KnzP7ErIUHANu3byddS29YwFKXOhYVLIRQWlqatbU1AOzdu5d0LV1j1tB+/r5ti1nqkmFpwUIIHTt2jMvlcjgcoVBIuhaEOs/pGD16NNNRbNmyxeBhKSkpAPD2228TKbLfsfiiwYssX768sbExKSlpzZo1Tk5Oy5YtM30NTU1NOTk5zLzF7OzspqYmXZObm1tYWNjzl88t4MJzJ6STjQtzAjDl5C1mY62tW7eGh4cb3FejvyB7l4uIPn78mMvl2tnZNZnzTvbGsNhgIYS2bt0KAHZ2djdu3MD0EvqbjrxoEmxPFmQ/dOgQAMTGxmKq0/QsOVharfYvf/kLADg5OeXm5vbLc7a3t9++fXvfvn1xcXHDhw/XPy05OjrqJsE2NDQY9bTMnD4z+VLYL1i8X2FPaLXaFStWnDhxoi+Tt5qamm7dusV8YZLJZK2trbomDw8PPp/PzFsMCQlhfpD2XFVVlUQikUqlR44caWtrq6ysHDVqVC8qNEekk42dWq2OjY0FAC8vr55fKtG/0cNgR4KxY8euXLlSKBQa7HDeEx0dHbpfiPrD68x3ssTERLYs4/5SFn7GYrS2ts6dO/fGjRvdT94qKiqSSCRZWVkSieTBgwe647a2toGBgcxpKTw83MXFxdhXl8vlzDNnZWUx87wZQ4cODQsLEwgEzs7OmzZtam5uXr9+/b59+3r3Ns0L6WSbSGNjY1BQEAD4+fnpb3Goz9PTU/exDB48OCoqaseOHenp6b2YNKFUKtPT03fs2BEVFWUwmftFW3ZdvXqVeWRKSkrv36fZGCjBQgjV1tZOnjwZAIKDgxsbG59/wPr163V9XC+6JKNuk+zS999/z0xH/vTTT419dXMzgIKFEKqpqRk7diwAzJgxo++Tt7q5TdLBweGlt0l26ciRIxwOh8PhHDp0qI/lkTWwgoUQKi8vZ7q83k3eetE+3gDg7u4eGxu7Z88eiUTS1tbW6wqZTdR5PN6pU6d6/STEDbhgIYSKi4uZu9CWL1/ekyu+v/7664uG1PV/IfbjDzrm9mAbG5sff/yxv57TxAZisBBCcrmc2ch0zZo1XT6A+D7eGzduBAB7e3uD3fPYYoAGC+lN3hIIBAih1tZW3ZC6wcpBjo6Oul+IJtvHW6vVMuvqODs75+XlmeZF+9HADRb6/yt0APD87d2jRo3605/+tH///sLCQlITpDQaDXNroZubG5Eb7PpiQAcLIbR+/XpdmDw9PXs9pI5JW1tbTEwME/RffvmFdDlGGBAj793773//+8MPPyxdutQ8r9O1tLTMnj1bKpX6+PhIJBK2LLhKg8UCSqVyxowZ+fn5U6ZMuX79urHXlIiwkLt0LJuzs/Ply5d9fHwKCws3b96sP73CbNFgscOIESPS09OXLFmSkZHx5z//WbfkmNmiXSGbVFRULFq06MmTJ3PnzhUKhbiX9OkLesZikzFjxqSmpjI946ZNm8z5pECDxTKTJk06duyYvb29SCT6+9//TrqcF6LBYh8+n3/48GEbG5tDhw6Z7axAGixWevPNNw8cOGBlZfXJJ58IhULS5XSBt3PnTtI1UL3h4+Pj5eV15coVsVjs6elpbluw0mCx2OTJk11cXDIzM69du+bj4zNx4kTSFT1Du0J2S0hI2LhxY0dHx3vvvXf9+nXS5TxDg8V6mzdvfvfdd9vb29955x25XE66nN/RAVJLgBDavHnziRMnnJycTp8+7efnR7oiGixL0dHRkZSUdOHChWHDhp09e3bcuHFk66FdoYXg8Xj79++fOXNmbW3t0qVLq6urdU2HDx/+6aefTFwPDZblsLa2PnjwIJ/Pf/jw4bZt2wCAWef3u+++UygUJi6GDjdYFGtr63nz5j148GD37t1tbW2RkZEAUFdX5+fnJxQK8/LyBAKBaSqh37EslkqlyszMLCgoOHLkSFBQ0Jw5c4KCgkz2vZ52hRZr8ODBCxYsUKvVSUlJ1dXV06dPN+WvRQtcg5TSOXXqVHp6ulQq1Wq177//PrNhnWnQrtCSIYQqKyu9vb0bGxvb29v7vgtpz9FgUVjQ71gUFjRYFBY0WBQWNFgUFjRYFBY0WBQWNFgUFjRYFBY0WBQWNFgUFjRYFBY0WBQWNFgUFjRYFBY0WBQWNFgUFjRYFBY0WBQWNFgUFjRYFBY0WBQWNFgUFjRYFBY0WBQWNFgUFjRYFBY0WBQWNFgUFjRYFBY0WBQWNFgUFjRYFBY0WBQWNFgUFjRYFBY0WBQWNFgUFjRYFBY0WBQWNFgUFjRYFBb/B2nK9fs6XZdSAAAA33pUWHRyZGtpdFBLTCByZGtpdCAyMDIzLjAzLjIAAHice79v7T0GIOBlgAAmIOaE4gZGBhYNkCCjDiOQ1GJzAPGYWdgcMkA0MyM7RIAZJoFdObooVDM3AyMDI1MGExNzAjNLBhMLKwMLWwIbOwMbRwYTB2OCCEg1GyMHGwszk3gZSD/UhQycYT2eB7QiHu4DcXJVbuz33nlyL4j9r2PB/uuaq+1BbJ6oYDvfJ9fAbMEjc+3XbRIFszVidBxmqeeC2c6BPvYaNyL3g9iFjS/tub7/ALOtp2vu71o2A8wWAwAkQy8LJw75LQAAASp6VFh0TU9MIHJka2l0IDIwMjMuMDMuMgAAeJx9UlFuwzAI/c8puEAtwNiBzyappmlqInXZ7rD/3V+DVZlbyRoYycYvzzzIAGG35e3rG/6Ml2EAwH+WmcFnRsThCrGB6fLyusK8n6cjM28f6/4O5o7hz8jzvl2PDMENTjmRGBnCCZMIElfAhL/WvmWY4USpqlbiQKKpmHaQ+Y7kIqQElHIemaQDFFg9y1iz8zj1qCrcwRUndL7sjFFZURlL7+HqYjhVy8TFr41r1p6U0fkwjaZEJZRoQSulA1QnpKQszhSSTApm6wAtJGOqlaVKIMm4aE/LZV2eBnAfybStSxtJOLe+i0duzZWI1sLw0jpFHrU1xO9gbLrJQ5s68aM1DeLBj4U+lhXn4x/z/fADhgSEFCO0pHAAAAC9elRYdFNNSUxFUyByZGtpdCAyMDIzLjAzLjIAAHicVY09DgJBCIWvYqmbWQIMMOBewcIr6GrnqjFamHh4GTsLivfxfoaZ5uu8Hja/o9VnPVYgCYoyIoggsZVpJDB3o84wXMJ/jFXIC0GtjalMCIxWoxNr7lKmtFRWLQjq0jRTDBaVOEmwVbeeauFE2rtdMdKeOWfJ4dwIUcymfJqxmHRGwdm1KYfnbdk/bvctwum1LO/d4Xi+wLDVf9n+5OcLx3g5L2YYg9QAAAAASUVORK5CYII=\" alt=\"Mol\"/></div></td>\n",
       "      <td>1</td>\n",
       "      <td>11\\n\\nAt    -3.313451    1.457655    0.381136\\...</td>\n",
       "      <td>3</td>\n",
       "    </tr>\n",
       "    <tr>\n",
       "      <th>4</th>\n",
       "      <td>*[C@@H]1CCS(=O)(=O)C1</td>\n",
       "      <td style=\"text-align: center;\"><div style=\"width: 200px; height: 200px\" data-content=\"rdkit/molecule\"><img src=\"data:image/png;base64,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\" alt=\"Mol\"/></div></td>\n",
       "      <td>1</td>\n",
       "      <td>15\\n\\nAt     0.477033    3.300295   -0.457006\\...</td>\n",
       "      <td>1</td>\n",
       "    </tr>\n",
       "  </tbody>\n",
       "</table>\n",
       "</div>"
      ],
      "text/plain": [
       "                  Smiles                                       Molecule  \\\n",
       "0               *NC(*)=O  <rdkit.Chem.rdchem.Mol object at 0x133f77d10>   \n",
       "1                    *Br  <rdkit.Chem.rdchem.Mol object at 0x133f77c30>   \n",
       "2                    *NN  <rdkit.Chem.rdchem.Mol object at 0x133f77450>   \n",
       "3        *c1cnc(*)c(*)c1  <rdkit.Chem.rdchem.Mol object at 0x133f77bc0>   \n",
       "4  *[C@@H]1CCS(=O)(=O)C1  <rdkit.Chem.rdchem.Mol object at 0x133f77e60>   \n",
       "\n",
       "   count                                                xyz  numAttachments  \n",
       "0      1  6\\n\\nAt    -2.627402    0.255546   -0.273482\\n...               2  \n",
       "1      1  2\\n\\nAt     1.348902    0.000000    0.000000\\n...               1  \n",
       "2      1  6\\n\\nAt     2.341202   -0.609396   -0.182980\\n...               1  \n",
       "3      1  11\\n\\nAt    -3.313451    1.457655    0.381136\\...               3  \n",
       "4      1  15\\n\\nAt     0.477033    3.300295   -0.457006\\...               1  "
      ]
     },
     "execution_count": 19,
     "metadata": {},
     "output_type": "execute_result"
    }
   ],
   "source": [
    "ff.count_uniques(ff.identify_connected_fragments('c1c(cnc(c1C(=O)N[C@@H]2CCS(=O)(=O)C2)NN)Br'))"
   ]
  },
  {
   "cell_type": "code",
   "execution_count": null,
   "metadata": {},
   "outputs": [
    {
     "name": "stderr",
     "output_type": "stream",
     "text": [
      "[15:11:43] Running LargestFragmentChooser\n",
      "[15:11:43] Fragment: O=[N+]([O-])c1ccc(F)c(F)c1Oc1ccc(O)cc1\n",
      "[15:11:43] New largest fragment: O=[N+]([O-])c1ccc(F)c(F)c1Oc1ccc(O)cc1 (26)\n"
     ]
    }
   ],
   "source": [
    "unique_frame = ff.count_uniques(ff.identify_connected_fragments('c1cc(ccc1O)Oc2c(ccc(c2F)F)[N+](=O)[O-]'),drop_attachments=True)"
   ]
  },
  {
   "cell_type": "code",
   "execution_count": null,
   "metadata": {},
   "outputs": [
    {
     "data": {
      "text/plain": [
       "2"
      ]
     },
     "execution_count": 24,
     "metadata": {},
     "output_type": "execute_result"
    }
   ],
   "source": [
    "unique_frame[unique_frame['Smiles']=='c1ccccc1']['count'][0]"
   ]
  },
  {
   "cell_type": "code",
   "execution_count": null,
   "metadata": {},
   "outputs": [],
   "source": [
    "test_fragment.test_acyclic_molecule_is_fragmented()"
   ]
  },
  {
   "cell_type": "code",
   "execution_count": null,
   "metadata": {},
   "outputs": [
    {
     "name": "stderr",
     "output_type": "stream",
     "text": [
      "[15:09:48] SMILES Parse Error: syntax error while parsing: CBx\n",
      "[15:09:48] SMILES Parse Error: Failed parsing SMILES 'CBx' for input: 'CBx'\n"
     ]
    }
   ],
   "source": [
    "test_fragment.test_invalid_smiles_raises_ValueError()"
   ]
  },
  {
   "cell_type": "code",
   "execution_count": null,
   "metadata": {},
   "outputs": [
    {
     "name": "stderr",
     "output_type": "stream",
     "text": [
      "[15:17:02] Running LargestFragmentChooser\n",
      "[15:17:02] Fragment: O=C(NCCOCCO)[C@@H]1CN(C(=O)c2ccc(-c3ccccc3F)o2)CC12CC[NH2+]CC2\n",
      "[15:17:02] New largest fragment: O=C(NCCOCCO)[C@@H]1CN(C(=O)c2ccc(-c3ccccc3F)o2)CC12CC[NH2+]CC2 (64)\n"
     ]
    },
    {
     "name": "stdout",
     "output_type": "stream",
     "text": [
      "2\n"
     ]
    },
    {
     "ename": "KeyError",
     "evalue": "0",
     "output_type": "error",
     "traceback": [
      "\u001b[0;31m---------------------------------------------------------------------------\u001b[0m",
      "\u001b[0;31mKeyError\u001b[0m                                  Traceback (most recent call last)",
      "File \u001b[0;32m~/anaconda3/envs/my-rdkit-env/lib/python3.11/site-packages/pandas/core/indexes/base.py:3652\u001b[0m, in \u001b[0;36mIndex.get_loc\u001b[0;34m(self, key)\u001b[0m\n\u001b[1;32m   3651\u001b[0m \u001b[39mtry\u001b[39;00m:\n\u001b[0;32m-> 3652\u001b[0m     \u001b[39mreturn\u001b[39;00m \u001b[39mself\u001b[39;49m\u001b[39m.\u001b[39;49m_engine\u001b[39m.\u001b[39;49mget_loc(casted_key)\n\u001b[1;32m   3653\u001b[0m \u001b[39mexcept\u001b[39;00m \u001b[39mKeyError\u001b[39;00m \u001b[39mas\u001b[39;00m err:\n",
      "File \u001b[0;32m~/anaconda3/envs/my-rdkit-env/lib/python3.11/site-packages/pandas/_libs/index.pyx:147\u001b[0m, in \u001b[0;36mpandas._libs.index.IndexEngine.get_loc\u001b[0;34m()\u001b[0m\n",
      "File \u001b[0;32m~/anaconda3/envs/my-rdkit-env/lib/python3.11/site-packages/pandas/_libs/index.pyx:176\u001b[0m, in \u001b[0;36mpandas._libs.index.IndexEngine.get_loc\u001b[0;34m()\u001b[0m\n",
      "File \u001b[0;32mpandas/_libs/hashtable_class_helper.pxi:2606\u001b[0m, in \u001b[0;36mpandas._libs.hashtable.Int64HashTable.get_item\u001b[0;34m()\u001b[0m\n",
      "File \u001b[0;32mpandas/_libs/hashtable_class_helper.pxi:2630\u001b[0m, in \u001b[0;36mpandas._libs.hashtable.Int64HashTable.get_item\u001b[0;34m()\u001b[0m\n",
      "\u001b[0;31mKeyError\u001b[0m: 0",
      "\nThe above exception was the direct cause of the following exception:\n",
      "\u001b[0;31mKeyError\u001b[0m                                  Traceback (most recent call last)",
      "Cell \u001b[0;32mIn[3], line 1\u001b[0m\n\u001b[0;32m----> 1\u001b[0m test_fragment\u001b[39m.\u001b[39;49mtest_two_ethyls_in_smile()\n",
      "File \u001b[0;32m~/Documents/Retrievium Work/Scaffolding/group_decomposition/tests/test_fragment.py:16\u001b[0m, in \u001b[0;36mtest_two_ethyls_in_smile\u001b[0;34m()\u001b[0m\n\u001b[1;32m     14\u001b[0m uniqueframe \u001b[39m=\u001b[39m count_uniques(atframe)\n\u001b[1;32m     15\u001b[0m \u001b[39mprint\u001b[39m(\u001b[39mlist\u001b[39m(uniqueframe[uniqueframe[\u001b[39m'\u001b[39m\u001b[39mSmiles\u001b[39m\u001b[39m'\u001b[39m]\u001b[39m==\u001b[39m\u001b[39m'\u001b[39m\u001b[39m*CC*\u001b[39m\u001b[39m'\u001b[39m][\u001b[39m'\u001b[39m\u001b[39mcount\u001b[39m\u001b[39m'\u001b[39m])[\u001b[39m0\u001b[39m])\n\u001b[0;32m---> 16\u001b[0m numEt \u001b[39m=\u001b[39m uniqueframe[uniqueframe[\u001b[39m'\u001b[39;49m\u001b[39mSmiles\u001b[39;49m\u001b[39m'\u001b[39;49m]\u001b[39m==\u001b[39;49m\u001b[39m'\u001b[39;49m\u001b[39m*CC*\u001b[39;49m\u001b[39m'\u001b[39;49m][\u001b[39m'\u001b[39;49m\u001b[39mcount\u001b[39;49m\u001b[39m'\u001b[39;49m][\u001b[39m0\u001b[39;49m]\n\u001b[1;32m     17\u001b[0m \u001b[39m# self.assertEqual(numEt,2,'should be 2 ethyl')\u001b[39;00m\n\u001b[1;32m     18\u001b[0m \u001b[39massert\u001b[39;00m numEt \u001b[39m==\u001b[39m \u001b[39m2\u001b[39m\n",
      "File \u001b[0;32m~/anaconda3/envs/my-rdkit-env/lib/python3.11/site-packages/pandas/core/series.py:1007\u001b[0m, in \u001b[0;36mSeries.__getitem__\u001b[0;34m(self, key)\u001b[0m\n\u001b[1;32m   1004\u001b[0m     \u001b[39mreturn\u001b[39;00m \u001b[39mself\u001b[39m\u001b[39m.\u001b[39m_values[key]\n\u001b[1;32m   1006\u001b[0m \u001b[39melif\u001b[39;00m key_is_scalar:\n\u001b[0;32m-> 1007\u001b[0m     \u001b[39mreturn\u001b[39;00m \u001b[39mself\u001b[39;49m\u001b[39m.\u001b[39;49m_get_value(key)\n\u001b[1;32m   1009\u001b[0m \u001b[39mif\u001b[39;00m is_hashable(key):\n\u001b[1;32m   1010\u001b[0m     \u001b[39m# Otherwise index.get_value will raise InvalidIndexError\u001b[39;00m\n\u001b[1;32m   1011\u001b[0m     \u001b[39mtry\u001b[39;00m:\n\u001b[1;32m   1012\u001b[0m         \u001b[39m# For labels that don't resolve as scalars like tuples and frozensets\u001b[39;00m\n",
      "File \u001b[0;32m~/anaconda3/envs/my-rdkit-env/lib/python3.11/site-packages/pandas/core/series.py:1116\u001b[0m, in \u001b[0;36mSeries._get_value\u001b[0;34m(self, label, takeable)\u001b[0m\n\u001b[1;32m   1113\u001b[0m     \u001b[39mreturn\u001b[39;00m \u001b[39mself\u001b[39m\u001b[39m.\u001b[39m_values[label]\n\u001b[1;32m   1115\u001b[0m \u001b[39m# Similar to Index.get_value, but we do not fall back to positional\u001b[39;00m\n\u001b[0;32m-> 1116\u001b[0m loc \u001b[39m=\u001b[39m \u001b[39mself\u001b[39;49m\u001b[39m.\u001b[39;49mindex\u001b[39m.\u001b[39;49mget_loc(label)\n\u001b[1;32m   1118\u001b[0m \u001b[39mif\u001b[39;00m is_integer(loc):\n\u001b[1;32m   1119\u001b[0m     \u001b[39mreturn\u001b[39;00m \u001b[39mself\u001b[39m\u001b[39m.\u001b[39m_values[loc]\n",
      "File \u001b[0;32m~/anaconda3/envs/my-rdkit-env/lib/python3.11/site-packages/pandas/core/indexes/base.py:3654\u001b[0m, in \u001b[0;36mIndex.get_loc\u001b[0;34m(self, key)\u001b[0m\n\u001b[1;32m   3652\u001b[0m     \u001b[39mreturn\u001b[39;00m \u001b[39mself\u001b[39m\u001b[39m.\u001b[39m_engine\u001b[39m.\u001b[39mget_loc(casted_key)\n\u001b[1;32m   3653\u001b[0m \u001b[39mexcept\u001b[39;00m \u001b[39mKeyError\u001b[39;00m \u001b[39mas\u001b[39;00m err:\n\u001b[0;32m-> 3654\u001b[0m     \u001b[39mraise\u001b[39;00m \u001b[39mKeyError\u001b[39;00m(key) \u001b[39mfrom\u001b[39;00m \u001b[39merr\u001b[39;00m\n\u001b[1;32m   3655\u001b[0m \u001b[39mexcept\u001b[39;00m \u001b[39mTypeError\u001b[39;00m:\n\u001b[1;32m   3656\u001b[0m     \u001b[39m# If we have a listlike key, _check_indexing_error will raise\u001b[39;00m\n\u001b[1;32m   3657\u001b[0m     \u001b[39m#  InvalidIndexError. Otherwise we fall through and re-raise\u001b[39;00m\n\u001b[1;32m   3658\u001b[0m     \u001b[39m#  the TypeError.\u001b[39;00m\n\u001b[1;32m   3659\u001b[0m     \u001b[39mself\u001b[39m\u001b[39m.\u001b[39m_check_indexing_error(key)\n",
      "\u001b[0;31mKeyError\u001b[0m: 0"
     ]
    }
   ],
   "source": [
    "test_fragment.test_two_ethyls_in_smile()"
   ]
  },
  {
   "cell_type": "code",
   "execution_count": null,
   "metadata": {},
   "outputs": [
    {
     "data": {
      "text/plain": [
       "0      c1ccccc1\n",
       "1           *O*\n",
       "2            *F\n",
       "3            *O\n",
       "4    O=[N+][O-]\n",
       "Name: Smiles, dtype: object"
      ]
     },
     "execution_count": 6,
     "metadata": {},
     "output_type": "execute_result"
    }
   ],
   "source": [
    "unique_frame['Smiles']"
   ]
  },
  {
   "cell_type": "code",
   "execution_count": 3,
   "metadata": {},
   "outputs": [
    {
     "name": "stderr",
     "output_type": "stream",
     "text": [
      "[15:20:18] Running LargestFragmentChooser\n",
      "[15:20:18] Fragment: O=[N+]([O-])c1ccc(F)c(F)c1Oc1ccc(O)cc1\n",
      "[15:20:18] New largest fragment: O=[N+]([O-])c1ccc(F)c(F)c1Oc1ccc(O)cc1 (26)\n"
     ]
    }
   ],
   "source": [
    "test_fragment.test_two_phenyl_counted_same_if_drop_attachements()"
   ]
  },
  {
   "cell_type": "code",
   "execution_count": 1,
   "metadata": {},
   "outputs": [
    {
     "data": {
      "text/plain": [
       "False"
      ]
     },
     "execution_count": 1,
     "metadata": {},
     "output_type": "execute_result"
    }
   ],
   "source": [
    "1 in [11,10]"
   ]
  },
  {
   "cell_type": "code",
   "execution_count": null,
   "metadata": {},
   "outputs": [],
   "source": []
  }
 ],
 "metadata": {
  "kernelspec": {
   "display_name": "my-rdkit-env",
   "language": "python",
   "name": "python3"
  },
  "language_info": {
   "codemirror_mode": {
    "name": "ipython",
    "version": 3
   },
   "file_extension": ".py",
   "mimetype": "text/x-python",
   "name": "python",
   "nbconvert_exporter": "python",
   "pygments_lexer": "ipython3",
   "version": "3.11.3"
  },
  "orig_nbformat": 4
 },
 "nbformat": 4,
 "nbformat_minor": 2
}
