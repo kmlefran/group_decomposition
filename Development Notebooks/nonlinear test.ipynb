{
 "cells": [
  {
   "cell_type": "code",
   "execution_count": 1,
   "metadata": {},
   "outputs": [],
   "source": [
    "import sys\n",
    "sys.path.append(sys.path[0].replace('/Development Notebooks',''))\n",
    "from group_decomposition import fragfunctions as ff\n",
    "from group_decomposition import utils\n",
    "import rdkit\n",
    "from rdkit import Chem, rdBase\n",
    "from rdkit.Chem import BRICS\n",
    "from rdkit.Chem import AllChem #used for 3d coordinates\n",
    "from rdkit.Chem import Draw,rdDepictor\n",
    "from rdkit.Chem.Draw import IPythonConsole, rdMolDraw2D\n",
    "from rdkit.Chem.Scaffolds import rdScaffoldNetwork # scaffolding\n",
    "from rdkit import RDPaths\n",
    "from rdkit.Chem.Draw import rdMolDraw2D\n"
   ]
  },
  {
   "cell_type": "code",
   "execution_count": 2,
   "metadata": {},
   "outputs": [],
   "source": [
    "mol = utils.get_canonical_molecule('CCC=O')"
   ]
  },
  {
   "cell_type": "code",
   "execution_count": 3,
   "metadata": {},
   "outputs": [
    {
     "name": "stderr",
     "output_type": "stream",
     "text": [
      "[16:30:42] Running LargestFragmentChooser\n",
      "[16:30:42] Fragment: CCC=O\n",
      "[16:30:42] New largest fragment: CCC=O (10)\n"
     ]
    }
   ],
   "source": [
    "mol1nodemols = utils.get_scaffold_vertices(mol)"
   ]
  },
  {
   "cell_type": "code",
   "execution_count": 4,
   "metadata": {},
   "outputs": [],
   "source": [
    "ring_frags = utils.find_smallest_rings(mol1nodemols)"
   ]
  },
  {
   "cell_type": "code",
   "execution_count": 5,
   "metadata": {},
   "outputs": [
    {
     "data": {
      "image/png": "[encoded data removed]",
      "text/plain": [
       "<rdkit.Chem.rdchem.Mol at 0x13f5e2110>"
      ]
     },
     "execution_count": 5,
     "metadata": {},
     "output_type": "execute_result"
    }
   ],
   "source": [
    "mol1nodemols[0]"
   ]
  },
  {
   "cell_type": "code",
   "execution_count": 6,
   "metadata": {},
   "outputs": [
    {
     "data": {
      "image/png": "[encoded data removed]",
      "text/plain": [
       "<rdkit.Chem.rdchem.Mol at 0x13f5e2110>"
      ]
     },
     "execution_count": 6,
     "metadata": {},
     "output_type": "execute_result"
    }
   ],
   "source": [
    "ring_frags[0]"
   ]
  },
  {
   "cell_type": "code",
   "execution_count": 7,
   "metadata": {},
   "outputs": [
    {
     "name": "stderr",
     "output_type": "stream",
     "text": [
      "[16:30:42] Running LargestFragmentChooser\n",
      "[16:30:42] Fragment: CCC=O\n",
      "[16:30:42] New largest fragment: CCC=O (10)\n"
     ]
    },
    {
     "data": {
      "text/html": [
       "<div>\n",
       "<style scoped>\n",
       "    .dataframe tbody tr th:only-of-type {\n",
       "        vertical-align: middle;\n",
       "    }\n",
       "\n",
       "    .dataframe tbody tr th {\n",
       "        vertical-align: top;\n",
       "    }\n",
       "\n",
       "    .dataframe thead th {\n",
       "        text-align: right;\n",
       "    }\n",
       "</style>\n",
       "<table border=\"1\" class=\"dataframe\">\n",
       "  <thead>\n",
       "    <tr style=\"text-align: right;\">\n",
       "      <th></th>\n",
       "      <th>atomNum</th>\n",
       "      <th>inRing</th>\n",
       "      <th>molPart</th>\n",
       "    </tr>\n",
       "  </thead>\n",
       "  <tbody>\n",
       "    <tr>\n",
       "      <th>0</th>\n",
       "      <td>6</td>\n",
       "      <td>True</td>\n",
       "      <td>Ring 1</td>\n",
       "    </tr>\n",
       "    <tr>\n",
       "      <th>1</th>\n",
       "      <td>6</td>\n",
       "      <td>True</td>\n",
       "      <td>Ring 1</td>\n",
       "    </tr>\n",
       "    <tr>\n",
       "      <th>2</th>\n",
       "      <td>6</td>\n",
       "      <td>True</td>\n",
       "      <td>Ring 1</td>\n",
       "    </tr>\n",
       "    <tr>\n",
       "      <th>3</th>\n",
       "      <td>8</td>\n",
       "      <td>True</td>\n",
       "      <td>Ring 1</td>\n",
       "    </tr>\n",
       "  </tbody>\n",
       "</table>\n",
       "</div>"
      ],
      "text/plain": [
       "   atomNum  inRing molPart\n",
       "0        6    True  Ring 1\n",
       "1        6    True  Ring 1\n",
       "2        6    True  Ring 1\n",
       "3        8    True  Ring 1"
      ]
     },
     "execution_count": 7,
     "metadata": {},
     "output_type": "execute_result"
    }
   ],
   "source": [
    "ff.generate_full_mol_frame(mol)"
   ]
  },
  {
   "cell_type": "code",
   "execution_count": 8,
   "metadata": {},
   "outputs": [
    {
     "data": {
      "text/plain": [
       "[False, False, False, False]"
      ]
     },
     "execution_count": 8,
     "metadata": {},
     "output_type": "execute_result"
    }
   ],
   "source": [
    "utils.get_molecules_atomsinrings(mol)"
   ]
  },
  {
   "cell_type": "code",
   "execution_count": 9,
   "metadata": {},
   "outputs": [
    {
     "data": {
      "text/html": [
       "<div>\n",
       "<style scoped>\n",
       "    .dataframe tbody tr th:only-of-type {\n",
       "        vertical-align: middle;\n",
       "    }\n",
       "\n",
       "    .dataframe tbody tr th {\n",
       "        vertical-align: top;\n",
       "    }\n",
       "\n",
       "    .dataframe thead th {\n",
       "        text-align: right;\n",
       "    }\n",
       "</style>\n",
       "<table border=\"1\" class=\"dataframe\">\n",
       "  <thead>\n",
       "    <tr style=\"text-align: right;\">\n",
       "      <th></th>\n",
       "      <th>atomNum</th>\n",
       "      <th>inRing</th>\n",
       "      <th>molPart</th>\n",
       "    </tr>\n",
       "  </thead>\n",
       "  <tbody>\n",
       "    <tr>\n",
       "      <th>0</th>\n",
       "      <td>6</td>\n",
       "      <td>False</td>\n",
       "      <td>Unknown</td>\n",
       "    </tr>\n",
       "    <tr>\n",
       "      <th>1</th>\n",
       "      <td>6</td>\n",
       "      <td>False</td>\n",
       "      <td>Unknown</td>\n",
       "    </tr>\n",
       "    <tr>\n",
       "      <th>2</th>\n",
       "      <td>6</td>\n",
       "      <td>False</td>\n",
       "      <td>Unknown</td>\n",
       "    </tr>\n",
       "    <tr>\n",
       "      <th>3</th>\n",
       "      <td>8</td>\n",
       "      <td>False</td>\n",
       "      <td>Unknown</td>\n",
       "    </tr>\n",
       "  </tbody>\n",
       "</table>\n",
       "</div>"
      ],
      "text/plain": [
       "   atomNum  inRing  molPart\n",
       "0        6   False  Unknown\n",
       "1        6   False  Unknown\n",
       "2        6   False  Unknown\n",
       "3        8   False  Unknown"
      ]
     },
     "execution_count": 9,
     "metadata": {},
     "output_type": "execute_result"
    }
   ],
   "source": [
    "ff._initialize_molecule_frame(mol)"
   ]
  },
  {
   "cell_type": "code",
   "execution_count": 10,
   "metadata": {},
   "outputs": [],
   "source": [
    "ringInfo = mol.GetRingInfo()"
   ]
  },
  {
   "cell_type": "code",
   "execution_count": 11,
   "metadata": {},
   "outputs": [
    {
     "data": {
      "text/plain": [
       "0"
      ]
     },
     "execution_count": 11,
     "metadata": {},
     "output_type": "execute_result"
    }
   ],
   "source": [
    "int(ringInfo.NumRings())"
   ]
  },
  {
   "cell_type": "code",
   "execution_count": 12,
   "metadata": {},
   "outputs": [
    {
     "data": {
      "text/html": [
       "<div>\n",
       "<style scoped>\n",
       "    .dataframe tbody tr th:only-of-type {\n",
       "        vertical-align: middle;\n",
       "    }\n",
       "\n",
       "    .dataframe tbody tr th {\n",
       "        vertical-align: top;\n",
       "    }\n",
       "\n",
       "    .dataframe thead th {\n",
       "        text-align: right;\n",
       "    }\n",
       "</style>\n",
       "<table border=\"1\" class=\"dataframe\">\n",
       "  <thead>\n",
       "    <tr style=\"text-align: right;\">\n",
       "      <th></th>\n",
       "      <th>Smiles</th>\n",
       "      <th>Molecule</th>\n",
       "      <th>numAttachments</th>\n",
       "    </tr>\n",
       "  </thead>\n",
       "  <tbody>\n",
       "    <tr>\n",
       "      <th>0</th>\n",
       "      <td>[1*]CC</td>\n",
       "      <td style=\"text-align: center;\"><div style=\"width: 200px; height: 200px\" data-content=\"rdkit/molecule\"><img src=\"data:image/png;base64,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\" alt=\"Mol\"/></div></td>\n",
       "      <td>1</td>\n",
       "    </tr>\n",
       "    <tr>\n",
       "      <th>1</th>\n",
       "      <td>[1*]C=O</td>\n",
       "      <td style=\"text-align: center;\"><div style=\"width: 200px; height: 200px\" data-content=\"rdkit/molecule\"><img src=\"data:image/png;base64,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\" alt=\"Mol\"/></div></td>\n",
       "      <td>1</td>\n",
       "    </tr>\n",
       "  </tbody>\n",
       "</table>\n",
       "</div>"
      ],
      "text/plain": [
       "    Smiles                                       Molecule  numAttachments\n",
       "0   [1*]CC  <rdkit.Chem.rdchem.Mol object at 0x13f624270>               1\n",
       "1  [1*]C=O  <rdkit.Chem.rdchem.Mol object at 0x13f6240b0>               1"
      ]
     },
     "execution_count": 12,
     "metadata": {},
     "output_type": "execute_result"
    }
   ],
   "source": [
    "ff.identify_connected_fragments('CCC=O')"
   ]
  },
  {
   "cell_type": "code",
   "execution_count": null,
   "metadata": {},
   "outputs": [],
   "source": []
  }
 ],
 "metadata": {
  "kernelspec": {
   "display_name": "my-rdkit-env",
   "language": "python",
   "name": "python3"
  },
  "language_info": {
   "codemirror_mode": {
    "name": "ipython",
    "version": 3
   },
   "file_extension": ".py",
   "mimetype": "text/x-python",
   "name": "python",
   "nbconvert_exporter": "python",
   "pygments_lexer": "ipython3",
   "version": "3.11.3"
  },
  "orig_nbformat": 4
 },
 "nbformat": 4,
 "nbformat_minor": 2
}
