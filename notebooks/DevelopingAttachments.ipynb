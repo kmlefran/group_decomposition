{
 "cells": [
  {
   "cell_type": "code",
   "execution_count": 1,
   "metadata": {},
   "outputs": [
    {
     "data": {
      "image/png": "[encoded data removed]",
      "text/plain": [
       "<PIL.PngImagePlugin.PngImageFile image mode=RGB size=300x300>"
      ]
     },
     "execution_count": 1,
     "metadata": {},
     "output_type": "execute_result"
    }
   ],
   "source": [
    "import sys\n",
    "sys.path.append(\"/Users/chemlab/Documents/Retrievium Work/Scaffolding/Coding Workspace/scripts\")\n",
    "import fragfinder as ff\n",
    "mol = ff.get_canonical_molecule('FC1CCCC1CCc2ccccc2')\n",
    "ff.Draw.MolToImage(mol)"
   ]
  },
  {
   "cell_type": "code",
   "execution_count": 2,
   "metadata": {},
   "outputs": [
    {
     "name": "stderr",
     "output_type": "stream",
     "text": [
      "[14:35:18] Running LargestFragmentChooser\n",
      "[14:35:18] Fragment: FC1CCCC1CCc1ccccc1\n",
      "[14:35:18] New largest fragment: FC1CCCC1CCc1ccccc1 (31)\n"
     ]
    }
   ],
   "source": [
    "molFrame = ff.generate_full_molFrame(mol)"
   ]
  },
  {
   "cell_type": "code",
   "execution_count": 3,
   "metadata": {},
   "outputs": [
    {
     "data": {
      "text/plain": [
       "[7]"
      ]
     },
     "execution_count": 3,
     "metadata": {},
     "output_type": "execute_result"
    }
   ],
   "source": [
    "ff.find_molpart_bonds(molFrame, 'Ring 2',mol)"
   ]
  },
  {
   "cell_type": "code",
   "execution_count": 4,
   "metadata": {},
   "outputs": [
    {
     "data": {
      "text/html": [
       "<div>\n",
       "<style scoped>\n",
       "    .dataframe tbody tr th:only-of-type {\n",
       "        vertical-align: middle;\n",
       "    }\n",
       "\n",
       "    .dataframe tbody tr th {\n",
       "        vertical-align: top;\n",
       "    }\n",
       "\n",
       "    .dataframe thead th {\n",
       "        text-align: right;\n",
       "    }\n",
       "</style>\n",
       "<table border=\"1\" class=\"dataframe\">\n",
       "  <thead>\n",
       "    <tr style=\"text-align: right;\">\n",
       "      <th></th>\n",
       "      <th>atomNum</th>\n",
       "      <th>inRing</th>\n",
       "      <th>molPart</th>\n",
       "    </tr>\n",
       "  </thead>\n",
       "  <tbody>\n",
       "    <tr>\n",
       "      <th>0</th>\n",
       "      <td>9</td>\n",
       "      <td>False</td>\n",
       "      <td>Peripheral 1</td>\n",
       "    </tr>\n",
       "    <tr>\n",
       "      <th>1</th>\n",
       "      <td>6</td>\n",
       "      <td>True</td>\n",
       "      <td>Ring 1</td>\n",
       "    </tr>\n",
       "    <tr>\n",
       "      <th>2</th>\n",
       "      <td>6</td>\n",
       "      <td>True</td>\n",
       "      <td>Ring 1</td>\n",
       "    </tr>\n",
       "    <tr>\n",
       "      <th>3</th>\n",
       "      <td>6</td>\n",
       "      <td>True</td>\n",
       "      <td>Ring 1</td>\n",
       "    </tr>\n",
       "    <tr>\n",
       "      <th>4</th>\n",
       "      <td>6</td>\n",
       "      <td>True</td>\n",
       "      <td>Ring 1</td>\n",
       "    </tr>\n",
       "    <tr>\n",
       "      <th>5</th>\n",
       "      <td>6</td>\n",
       "      <td>True</td>\n",
       "      <td>Ring 1</td>\n",
       "    </tr>\n",
       "    <tr>\n",
       "      <th>6</th>\n",
       "      <td>6</td>\n",
       "      <td>False</td>\n",
       "      <td>Linker 1</td>\n",
       "    </tr>\n",
       "    <tr>\n",
       "      <th>7</th>\n",
       "      <td>6</td>\n",
       "      <td>False</td>\n",
       "      <td>Linker 1</td>\n",
       "    </tr>\n",
       "    <tr>\n",
       "      <th>8</th>\n",
       "      <td>6</td>\n",
       "      <td>True</td>\n",
       "      <td>Ring 2</td>\n",
       "    </tr>\n",
       "    <tr>\n",
       "      <th>9</th>\n",
       "      <td>6</td>\n",
       "      <td>True</td>\n",
       "      <td>Ring 2</td>\n",
       "    </tr>\n",
       "    <tr>\n",
       "      <th>10</th>\n",
       "      <td>6</td>\n",
       "      <td>True</td>\n",
       "      <td>Ring 2</td>\n",
       "    </tr>\n",
       "    <tr>\n",
       "      <th>11</th>\n",
       "      <td>6</td>\n",
       "      <td>True</td>\n",
       "      <td>Ring 2</td>\n",
       "    </tr>\n",
       "    <tr>\n",
       "      <th>12</th>\n",
       "      <td>6</td>\n",
       "      <td>True</td>\n",
       "      <td>Ring 2</td>\n",
       "    </tr>\n",
       "    <tr>\n",
       "      <th>13</th>\n",
       "      <td>6</td>\n",
       "      <td>True</td>\n",
       "      <td>Ring 2</td>\n",
       "    </tr>\n",
       "  </tbody>\n",
       "</table>\n",
       "</div>"
      ],
      "text/plain": [
       "    atomNum  inRing       molPart\n",
       "0         9   False  Peripheral 1\n",
       "1         6    True        Ring 1\n",
       "2         6    True        Ring 1\n",
       "3         6    True        Ring 1\n",
       "4         6    True        Ring 1\n",
       "5         6    True        Ring 1\n",
       "6         6   False      Linker 1\n",
       "7         6   False      Linker 1\n",
       "8         6    True        Ring 2\n",
       "9         6    True        Ring 2\n",
       "10        6    True        Ring 2\n",
       "11        6    True        Ring 2\n",
       "12        6    True        Ring 2\n",
       "13        6    True        Ring 2"
      ]
     },
     "execution_count": 4,
     "metadata": {},
     "output_type": "execute_result"
    }
   ],
   "source": [
    "molFrame"
   ]
  },
  {
   "cell_type": "code",
   "execution_count": 5,
   "metadata": {},
   "outputs": [
    {
     "data": {
      "text/plain": [
       "{'smiles': '*C1CCCC1* |$1;;;;;;2$|',\n",
       " 'count': 3,\n",
       " 'connectivityDict': {'Ring 1': {'Peripheral 1': 1, 'Linker 1': 2}}}"
      ]
     },
     "execution_count": 5,
     "metadata": {},
     "output_type": "execute_result"
    }
   ],
   "source": [
    "ff.trim_connections(molFrame,'Ring 1',[0,6],mol,1,{})"
   ]
  },
  {
   "cell_type": "code",
   "execution_count": 9,
   "metadata": {},
   "outputs": [
    {
     "name": "stderr",
     "output_type": "stream",
     "text": [
      "[14:36:04] Running LargestFragmentChooser\n",
      "[14:36:04] Fragment: FC1CCCC1CCc1ccccc1\n",
      "[14:36:04] New largest fragment: FC1CCCC1CCc1ccccc1 (31)\n"
     ]
    },
    {
     "data": {
      "text/html": [
       "<div>\n",
       "<style scoped>\n",
       "    .dataframe tbody tr th:only-of-type {\n",
       "        vertical-align: middle;\n",
       "    }\n",
       "\n",
       "    .dataframe tbody tr th {\n",
       "        vertical-align: top;\n",
       "    }\n",
       "\n",
       "    .dataframe thead th {\n",
       "        text-align: right;\n",
       "    }\n",
       "</style>\n",
       "<table border=\"1\" class=\"dataframe\">\n",
       "  <thead>\n",
       "    <tr style=\"text-align: right;\">\n",
       "      <th></th>\n",
       "      <th>Smiles</th>\n",
       "      <th>Molecule</th>\n",
       "    </tr>\n",
       "  </thead>\n",
       "  <tbody>\n",
       "    <tr>\n",
       "      <th>0</th>\n",
       "      <td>*F |$1;$|</td>\n",
       "      <td style=\"text-align: center;\"><div style=\"width: 200px; height: 200px\" data-content=\"rdkit/molecule\"><img src=\"data:image/png;base64,iVBORw0KGgoAAAANSUhEUgAAAMgAAADICAIAAAAiOjnJAAAABmJLR0QA/wD/AP+gvaeTAAAEDElEQVR4nO3cv0pkZxzH4Rn/7rLqbjegASXNSJolKQR7wcob8BrGSrwB+zQphCFsE9NYK2Ih9mm0EEGsFhcFMVs4oiCDTIqAmBSTMzrfySrP03l85zdv8eEcznjGcqvVKkG39f3fG+B1EhYRwiJCWEQIiwhhESEsIoRFhLCIEBYRwiJCWEQIiwhhESEsIoRFhLCIEBYRwiJCWEQIiwhhESEsIoRFhLCIEBYRwiJCWEQIiwhhESEsIoRFhLCIEBYRwiJCWEQIiwhhESEsIoRFhLCIEBYRwiJCWEQIiwhhESEsIoRFhLCIEBYRwiJCWEQIiwhhESEsIoRFhLCIEBYRwiJCWEQIiwhhESEsIoRFhLCIEBYRwiJCWEQIiwhhESEsIoRFhLCIEBYRwiJCWEQIiwhhESEsIoRFhLCIEBYRwiJCWEQMPH/EyclJpVJ5//7980fRS382m9f39x29ZGJoaKiv0Mno6WE1m83Nzc16vX54eFgqlSqVytra2uzs7JMH0mO/nJ1tf/3a0Ut+m57+4d27IiufEtb19fXGxka9Xj87O3s4eHFxcXV19YRpvEqdhXV6erq+vr6+vt5oNEIb4nUoGlaj0VheXt7Z2bn/51V5cHCw2WwGNkZPfapWJ9+8+c9lo/39BQcWDWt0dPTo6OihqsnJybm5uYWFhf39/dXV1YJD+GaN9vd/GOjCndyDorPK5fLi4uLe3t78/Pz8/PzU1NTfxw8ODrq4G16NDiKt1Wq1Wi23FV4TH5ASISwihEWEsIjo5h0mL9cf19ef7+7aLPgwMPDTyEjxgcKiVCqVfv7ypf2CjyMjn6rV4gN7Gtb4+Hgv367rPm5vX3b4OMA35ddq9cdOzjrP4YxFqVQqDfX1ldsuGC63//2/9TSs8/PzXr4dxf0+Pf3927ddHOiukAhhESEsIoRFhLCIEBYRwiJCWEQIi4jOPnlfWVnZ2tp6fOTu0Z/El5aWBh49kD8xMbG7u/vM/fFCdRbW7e1tm2+l3tzcPP5xbGzsiZvi5XMpJKLcarWKrz4+Pr68vCy4eHh4eGZm5km7ohce/1OQ74aHBzt8fqG9zsKCglwKiRAWEcIiQlhECIsIYREhLCKERYSwiBAWEcIiQlhECIsIYREhLCKERYSwiBAWEcIiQlhECIsIYREhLCKERYSwiBAWEcIiQlhECIsIYREhLCKERYSwiBAWEcIiQlhECIsIYREhLCKERYSwiBAWEcIiQlhECIsIYREhLCKERYSwiBAWEcIiQlhECIsIYREhLCKERYSwiBAWEcIiQlhECIsIYREhLCKERYSwiBAWEcIiQlhECIsIYREhLCKERYSwiBAWEcIiQlhECIsIYREhLCKERYSwiBAWEcIiQlhE/AUnqZPKazoG/QAAAFx6VFh0cmRraXRQS0wgcmRraXQgMjAyMy4wMy4xAAB4nHu/b+09BiDgZYAAJihmBOIGRgYWDZAgow6Iq8XJoADicAMlRUDC4kpQhTCdDvuBmlQgXAd7IHsJiCUGAM8FCDKhuS5WAAAAmHpUWHRNT0wgcmRraXQgMjAyMy4wMy4xAAB4nH2PTQqEMAyF9znFu4ASKyJdWuuIiC1o9Q7u5/5MylD/FiZdvKRf8gghxmzH/YsjlCUC+OVprbGVzEwTooDp+sGhDY1JndavLixQKGRC8k42wU+pU2BGxnldyT4Bc+aHSKDCBweXvYCdszeHv6fxzp6eMdV14Pod63SMaPoB7785NFvCDi0AAABOelRYdFNNSUxFUyByZGtpdCAyMDIzLjAzLjEAAHic03JTqNHQNdAzN9Ux0LGG0po6KobWKjqJJfm5AUX5BVYGeimlubmVPolJqTl6WjUAR1YOQOqBpsEAAAAASUVORK5CYII=\" alt=\"Mol\"/></div></td>\n",
       "    </tr>\n",
       "    <tr>\n",
       "      <th>1</th>\n",
       "      <td>*c1ccccc1 |$3;;;;;;$|</td>\n",
       "      <td style=\"text-align: center;\"><div style=\"width: 200px; height: 200px\" data-content=\"rdkit/molecule\"><img src=\"data:image/png;base64,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\" alt=\"Mol\"/></div></td>\n",
       "    </tr>\n",
       "    <tr>\n",
       "      <th>2</th>\n",
       "      <td>*CC* |$3;;;2$|</td>\n",
       "      <td style=\"text-align: center;\"><div style=\"width: 200px; height: 200px\" data-content=\"rdkit/molecule\"><img src=\"data:image/png;base64,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\" alt=\"Mol\"/></div></td>\n",
       "    </tr>\n",
       "    <tr>\n",
       "      <th>3</th>\n",
       "      <td>*C1CCCC1* |$1;;;;;;2$|</td>\n",
       "      <td style=\"text-align: center;\"><div style=\"width: 200px; height: 200px\" data-content=\"rdkit/molecule\"><img src=\"data:image/png;base64,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\" alt=\"Mol\"/></div></td>\n",
       "    </tr>\n",
       "  </tbody>\n",
       "</table>\n",
       "</div>"
      ],
      "text/plain": [
       "                   Smiles                                       Molecule\n",
       "0               *F |$1;$|  <rdkit.Chem.rdchem.Mol object at 0x137327680>\n",
       "1   *c1ccccc1 |$3;;;;;;$|  <rdkit.Chem.rdchem.Mol object at 0x1373276f0>\n",
       "2          *CC* |$3;;;2$|  <rdkit.Chem.rdchem.Mol object at 0x137327840>\n",
       "3  *C1CCCC1* |$1;;;;;;2$|  <rdkit.Chem.rdchem.Mol object at 0x137327920>"
      ]
     },
     "execution_count": 9,
     "metadata": {},
     "output_type": "execute_result"
    }
   ],
   "source": [
    "ff.identify_connected_fragments('FC1CCCC1CCc2ccccc2')"
   ]
  },
  {
   "cell_type": "code",
   "execution_count": null,
   "metadata": {},
   "outputs": [],
   "source": []
  }
 ],
 "metadata": {
  "kernelspec": {
   "display_name": "my-rdkit-env",
   "language": "python",
   "name": "python3"
  },
  "language_info": {
   "codemirror_mode": {
    "name": "ipython",
    "version": 3
   },
   "file_extension": ".py",
   "mimetype": "text/x-python",
   "name": "python",
   "nbconvert_exporter": "python",
   "pygments_lexer": "ipython3",
   "version": "3.11.3"
  },
  "orig_nbformat": 4
 },
 "nbformat": 4,
 "nbformat_minor": 2
}
