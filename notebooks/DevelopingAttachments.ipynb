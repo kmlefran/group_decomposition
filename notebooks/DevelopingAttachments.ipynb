{
 "cells": [
  {
   "cell_type": "code",
   "execution_count": 4,
   "metadata": {},
   "outputs": [
    {
     "ename": "ImportError",
     "evalue": "cannot import name 'Draw' from 'rdkit' (/Users/chemlab/anaconda3/envs/my-rdkit-env/lib/python3.11/site-packages/rdkit/__init__.py)",
     "output_type": "error",
     "traceback": [
      "\u001b[0;31m---------------------------------------------------------------------------\u001b[0m",
      "\u001b[0;31mImportError\u001b[0m                               Traceback (most recent call last)",
      "Cell \u001b[0;32mIn[4], line 5\u001b[0m\n\u001b[1;32m      3\u001b[0m \u001b[39mimport\u001b[39;00m \u001b[39mfragfinder\u001b[39;00m \u001b[39mas\u001b[39;00m \u001b[39mff\u001b[39;00m\n\u001b[1;32m      4\u001b[0m \u001b[39mimport\u001b[39;00m \u001b[39mrdkit\u001b[39;00m\n\u001b[0;32m----> 5\u001b[0m \u001b[39mfrom\u001b[39;00m \u001b[39mrdkit\u001b[39;00m \u001b[39mimport\u001b[39;00m Draw\n\u001b[1;32m      6\u001b[0m mol \u001b[39m=\u001b[39m ff\u001b[39m.\u001b[39mget_canonical_molecule(\u001b[39m'\u001b[39m\u001b[39mFC1CCCC1CCc2ccccc2\u001b[39m\u001b[39m'\u001b[39m)\n\u001b[1;32m      7\u001b[0m Draw\u001b[39m.\u001b[39mMolToImage(mol)\n",
      "\u001b[0;31mImportError\u001b[0m: cannot import name 'Draw' from 'rdkit' (/Users/chemlab/anaconda3/envs/my-rdkit-env/lib/python3.11/site-packages/rdkit/__init__.py)"
     ]
    }
   ],
   "source": [
    "import sys\n",
    "sys.path.append(\"/Users/chemlab/Documents/Retrievium Work/Scaffolding/Coding Workspace/scripts\")\n",
    "import fragfinder as ff\n",
    "import rdkit\n",
    "from rdkit import Draw\n",
    "mol = ff.get_canonical_molecule('FC1CCCC1CCc2ccccc2')\n",
    "Draw.MolToImage(mol)"
   ]
  },
  {
   "cell_type": "code",
   "execution_count": null,
   "metadata": {},
   "outputs": [],
   "source": []
  }
 ],
 "metadata": {
  "kernelspec": {
   "display_name": "my-rdkit-env",
   "language": "python",
   "name": "python3"
  },
  "language_info": {
   "codemirror_mode": {
    "name": "ipython",
    "version": 3
   },
   "file_extension": ".py",
   "mimetype": "text/x-python",
   "name": "python",
   "nbconvert_exporter": "python",
   "pygments_lexer": "ipython3",
   "version": "3.11.3"
  },
  "orig_nbformat": 4
 },
 "nbformat": 4,
 "nbformat_minor": 2
}
